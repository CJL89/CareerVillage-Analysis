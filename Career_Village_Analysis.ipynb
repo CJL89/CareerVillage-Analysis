{
  "cells": [
    {
      "metadata": {
        "_uuid": "62fcfad048e0f4c7894786bbfdb168f14cafeeeb"
      },
      "cell_type": "markdown",
      "source": "# <a><b>Glossary:</b><a/>"
    },
    {
      "metadata": {
        "_uuid": "de60420f3a84c60ac18b1673940706275cd3e78c"
      },
      "cell_type": "markdown",
      "source": "- <a href='#intro'><b>1.0 Introduction</b><a/>\n- <a href='#dependencies'><b>2.0 Setup of environment</b><a/>\n- <a href='#data'><b>3.0 Data</b><a/>"
    },
    {
      "metadata": {
        "_uuid": "1fd20f9f602c893ba3961774f9999a81bd7848c4"
      },
      "cell_type": "markdown",
      "source": "# <a id='intro'><b>1.0 Introduction:</b><a/>"
    },
    {
      "metadata": {
        "_uuid": "688aef40c19b417b0b8933a5bce1eb1612db73fc"
      },
      "cell_type": "markdown",
      "source": "CareerVillage.org is a nonprofit that crowdsources career advice for underserved youth. Founded in 2011 in four classrooms in New York City, the platform has now served career advice from 25,000 volunteer professionals to over 3.5M online learners. The platform uses a Q&A style similar to StackOverflow or Quora to provide students with answers to any question about any career.\n\nIn this Data Science for Good challenge, CareerVillage.org, in partnership with Google.org, is inviting you to help recommend questions to appropriate volunteers. To support this challenge, CareerVillage.org has supplied five years of data."
    },
    {
      "metadata": {
        "_uuid": "ffbc097bb492a09c1d266092d93107a147399b83"
      },
      "cell_type": "markdown",
      "source": "# <a id='dependencies'><b>2.0 Setup of environment:</b><a/>"
    },
    {
      "metadata": {
        "_uuid": "8f2839f25d086af736a60e9eeb907d3b93b6e0e5",
        "_cell_guid": "b1076dfc-b9ad-4769-8c92-a6c4dae69d19",
        "trusted": true
      },
      "cell_type": "code",
      "source": "%matplotlib inline\n\nimport numpy as np\nimport pandas as pd\nimport matplotlib.pyplot as plt\nimport seaborn as sns\nimport warnings\n\nwarnings.simplefilter(action='ignore', category=FutureWarning)\nsns.set()\n\nprint('All dependencies installed')",
      "execution_count": 8,
      "outputs": [
        {
          "output_type": "stream",
          "text": "All dependencies installed\n",
          "name": "stdout"
        }
      ]
    },
    {
      "metadata": {
        "_uuid": "11b4b99876c146063a10cd49c391588cfc5ce0b5"
      },
      "cell_type": "markdown",
      "source": "# <a id='data'><b>3.0 Data:</b><a/>"
    },
    {
      "metadata": {
        "_cell_guid": "79c7e3d0-c299-4dcb-8224-4455121ee9b0",
        "_uuid": "d629ff2d2480ee46fbb7e2d37f6b5fab8052498a",
        "trusted": true
      },
      "cell_type": "code",
      "source": "answers = pd.read_csv('../input/answers.csv')\ncomments = pd.read_csv('../input/comments.csv')\nemails = pd.read_csv('../input/emails.csv')\ngroup_memberships = pd.read_csv('../input/group_memberships.csv')\ngroups = pd.read_csv('../input/groups.csv')\nmatches = pd.read_csv('../input/matches.csv')\nprofessionals = pd.read_csv('../input/professionals.csv')\nquestions = pd.read_csv('../input/questions.csv')\nschool_memberships = pd.read_csv('../input/school_memberships.csv')\nstudents = pd.read_csv('../input/students.csv')\ntag_questions = pd.read_csv('../input/tag_questions.csv')\ntag_users = pd.read_csv('../input/tag_users.csv')\ntags = pd.read_csv('../input/tags.csv')\n\ngroup_memberships.head()",
      "execution_count": null,
      "outputs": []
    },
    {
      "metadata": {
        "trusted": true,
        "_uuid": "e0eb8f3ee38cee9d74a4bdbbb73220673b5f38a5"
      },
      "cell_type": "code",
      "source": "",
      "execution_count": null,
      "outputs": []
    },
    {
      "metadata": {
        "trusted": true,
        "_uuid": "0475fbb4b078e0a27d774e1e76f389203a42f072"
      },
      "cell_type": "code",
      "source": "",
      "execution_count": null,
      "outputs": []
    },
    {
      "metadata": {
        "trusted": true,
        "_uuid": "8ec8704c54e42949bee5ce69f8899f8eba78a32b"
      },
      "cell_type": "code",
      "source": "",
      "execution_count": null,
      "outputs": []
    },
    {
      "metadata": {
        "trusted": true,
        "_uuid": "9d6faf03e6bb625a8319d5544b7ff4cd9d05bf2e"
      },
      "cell_type": "code",
      "source": "",
      "execution_count": null,
      "outputs": []
    }
  ],
  "metadata": {
    "kernelspec": {
      "display_name": "Python 3",
      "language": "python",
      "name": "python3"
    },
    "language_info": {
      "name": "python",
      "version": "3.6.6",
      "mimetype": "text/x-python",
      "codemirror_mode": {
        "name": "ipython",
        "version": 3
      },
      "pygments_lexer": "ipython3",
      "nbconvert_exporter": "python",
      "file_extension": ".py"
    }
  },
  "nbformat": 4,
  "nbformat_minor": 1
}